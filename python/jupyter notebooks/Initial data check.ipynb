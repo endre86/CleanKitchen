{
 "cells": [
  {
   "cell_type": "markdown",
   "metadata": {},
   "source": [
    "# Initial data check\n",
    "\n",
    "This document is used for viewing and analyzing at the data different objects creates."
   ]
  },
  {
   "cell_type": "markdown",
   "metadata": {},
   "source": [
    "## Imports"
   ]
  },
  {
   "cell_type": "code",
   "execution_count": null,
   "metadata": {
    "collapsed": false
   },
   "outputs": [],
   "source": [
    "%load_ext autoreload\n",
    "%autoreload 1\n",
    "\n",
    "import csv\n",
    "%aimport helpers\n",
    "import math\n",
    "import matplotlib.pyplot as plt\n",
    "import numpy as np\n",
    "import pandas as pd\n",
    "\n",
    "%matplotlib inline"
   ]
  },
  {
   "cell_type": "markdown",
   "metadata": {},
   "source": [
    "## Fill data"
   ]
  },
  {
   "cell_type": "code",
   "execution_count": null,
   "metadata": {
    "collapsed": false
   },
   "outputs": [],
   "source": [
    "raw_data = helpers.read_raw_data('../../data/2016-07-13.csv')\n",
    "raw_data[:3]"
   ]
  },
  {
   "cell_type": "markdown",
   "metadata": {},
   "source": [
    "#### Raw data format\n",
    "\n",
    "0. Read identifier, unique for each \"read\" of values\n",
    "1. Label - Identifier of object used to read data\n",
    "2. MS since arduino started at read (will loop after 70 hours, see documentation\n",
    "3. Sensor A0\n",
    "4. Sensor A1\n",
    "5. Sensor A2\n",
    "6. Sensor A3\n",
    "7. Sensor A4"
   ]
  },
  {
   "cell_type": "markdown",
   "metadata": {},
   "source": [
    "### Split into readings\n",
    "\n",
    "dict: k = reading, v = [reading]"
   ]
  },
  {
   "cell_type": "code",
   "execution_count": null,
   "metadata": {
    "collapsed": false
   },
   "outputs": [],
   "source": [
    "raw_data_readings = helpers.split_data_based_on_readings(raw_data)\n",
    "for k,v in raw_data_readings.items():\n",
    "    print('reading {} has {} rows'.format(k, len(v)))"
   ]
  },
  {
   "cell_type": "markdown",
   "metadata": {},
   "source": [
    "## Visualize readings"
   ]
  },
  {
   "cell_type": "markdown",
   "metadata": {},
   "source": [
    "### Reading 1"
   ]
  },
  {
   "cell_type": "markdown",
   "metadata": {},
   "source": [
    "#### Create pandas dataframe"
   ]
  },
  {
   "cell_type": "code",
   "execution_count": null,
   "metadata": {
    "collapsed": false
   },
   "outputs": [],
   "source": [
    "reading1_df = pd.DataFrame(data=raw_data_readings['2016-07-13 17:45:08.868962'], columns=['identifier', 'label', 'ms', 'a0', 'a1', 'a2', 'a3', 'a4'])\n",
    "reading1_df.head()"
   ]
  },
  {
   "cell_type": "code",
   "execution_count": null,
   "metadata": {
    "collapsed": false
   },
   "outputs": [],
   "source": [
    "#reading1_transp_df = reading1_df.transpose()\n",
    "#corr = reading1_transp_df.corr()"
   ]
  },
  {
   "cell_type": "code",
   "execution_count": null,
   "metadata": {
    "collapsed": true
   },
   "outputs": [],
   "source": [
    "#fig, ax = plt.subplots(50, 50)\n",
    "#ax.matshow(corr)\n",
    "#plt.xticks(range(len(corr.columns)), corr.columns)\n",
    "#plt.yticks(range(len(corr.columns)), corr.columns)"
   ]
  }
 ],
 "metadata": {
  "anaconda-cloud": {},
  "kernelspec": {
   "display_name": "Python [Root]",
   "language": "python",
   "name": "Python [Root]"
  },
  "language_info": {
   "codemirror_mode": {
    "name": "ipython",
    "version": 3
   },
   "file_extension": ".py",
   "mimetype": "text/x-python",
   "name": "python",
   "nbconvert_exporter": "python",
   "pygments_lexer": "ipython3",
   "version": "3.5.1"
  }
 },
 "nbformat": 4,
 "nbformat_minor": 0
}
