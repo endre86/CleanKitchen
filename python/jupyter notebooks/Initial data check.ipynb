{
 "cells": [
  {
   "cell_type": "markdown",
   "metadata": {},
   "source": [
    "# Initial data check\n",
    "\n",
    "This document is used for viewing and analyzing at the data different objects creates."
   ]
  },
  {
   "cell_type": "markdown",
   "metadata": {},
   "source": [
    "## Imports"
   ]
  },
  {
   "cell_type": "code",
   "execution_count": 65,
   "metadata": {
    "collapsed": false
   },
   "outputs": [
    {
     "name": "stdout",
     "output_type": "stream",
     "text": [
      "The autoreload extension is already loaded. To reload it, use:\n",
      "  %reload_ext autoreload\n"
     ]
    }
   ],
   "source": [
    "%load_ext autoreload\n",
    "%autoreload 1\n",
    "\n",
    "import csv\n",
    "%aimport helpers"
   ]
  },
  {
   "cell_type": "markdown",
   "metadata": {},
   "source": [
    "## Fill data"
   ]
  },
  {
   "cell_type": "code",
   "execution_count": 67,
   "metadata": {
    "collapsed": false
   },
   "outputs": [
    {
     "data": {
      "text/plain": [
       "[['2016-07-13 17:45:08.868962', 'A', '809', '1', '0', '0', '0', '0'],\n",
       " ['2016-07-13 17:45:08.868962', 'A', '861', '0', '0', '0', '42', '0'],\n",
       " ['2016-07-13 17:45:08.868962', 'A', '912', '0', '0', '0', '80', '0']]"
      ]
     },
     "execution_count": 67,
     "metadata": {},
     "output_type": "execute_result"
    }
   ],
   "source": [
    "raw_data = helpers.read_raw_data('../../data/2016-07-13.csv')\n",
    "raw_data[:3]"
   ]
  },
  {
   "cell_type": "markdown",
   "metadata": {},
   "source": [
    "#### Raw data format\n",
    "\n",
    "0. Read identifier, unique for each \"read\" of values\n",
    "1. Label - Identifier of object used to read data\n",
    "2. MS since arduino started at read (will loop after 70 hours, see documentation\n",
    "3. Sensor A0\n",
    "4. Sensor A1\n",
    "5. Sensor A2\n",
    "6. Sensor A3\n",
    "7. Sensor A4"
   ]
  },
  {
   "cell_type": "markdown",
   "metadata": {},
   "source": [
    "### Split into readings\n",
    "\n",
    "dict: k = reading, v = [reading]"
   ]
  },
  {
   "cell_type": "code",
   "execution_count": 66,
   "metadata": {
    "collapsed": false
   },
   "outputs": [
    {
     "name": "stdout",
     "output_type": "stream",
     "text": [
      "reading 2016-07-13 17:45:08.868962 has 61 rows\n",
      "reading 2016-07-13 17:45:14.265186 has 58 rows\n"
     ]
    }
   ],
   "source": [
    "raw_data_readings = helpers.split_data_based_on_readings(raw_data)\n",
    "for k,v in raw_data_readings.items():\n",
    "    print('reading {} has {} rows'.format(k, len(v)))"
   ]
  },
  {
   "cell_type": "markdown",
   "metadata": {},
   "source": [
    "## Visualize readings"
   ]
  },
  {
   "cell_type": "markdown",
   "metadata": {},
   "source": [
    "### Reading 1"
   ]
  },
  {
   "cell_type": "code",
   "execution_count": null,
   "metadata": {
    "collapsed": true
   },
   "outputs": [],
   "source": []
  }
 ],
 "metadata": {
  "anaconda-cloud": {},
  "kernelspec": {
   "display_name": "Python [Root]",
   "language": "python",
   "name": "Python [Root]"
  },
  "language_info": {
   "codemirror_mode": {
    "name": "ipython",
    "version": 3
   },
   "file_extension": ".py",
   "mimetype": "text/x-python",
   "name": "python",
   "nbconvert_exporter": "python",
   "pygments_lexer": "ipython3",
   "version": "3.5.1"
  }
 },
 "nbformat": 4,
 "nbformat_minor": 0
}
